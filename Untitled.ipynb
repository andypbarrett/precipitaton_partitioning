{
 "cells": [
  {
   "cell_type": "code",
   "execution_count": 1,
   "id": "2fd9849a-7c86-4c68-a007-5e3b9eca023b",
   "metadata": {},
   "outputs": [],
   "source": [
    "# Libraries for working with multidimensional arrays\n",
    "import numpy as np\n",
    "import xarray as xr\n",
    "import pandas as pd\n",
    "\n",
    "# Libraries for plotting and visualising data\n",
    "import matplotlib.path as mpath\n",
    "import matplotlib.pyplot as plt\n",
    "import cartopy.crs as ccrs\n",
    "from cartopy.mpl.gridliner import LONGITUDE_FORMATTER, LATITUDE_FORMATTER\n",
    "import cartopy.feature as cfeature\n",
    "\n",
    "\n",
    "import os\n",
    "import sys\n",
    "import json\n",
    "from zipfile import ZipFile\n",
    "import time\n",
    "import base64\n",
    "from IPython.core.display import HTML\n",
    "\n",
    "import requests\n",
    "import warnings\n",
    "warnings.filterwarnings('ignore')"
   ]
  },
  {
   "cell_type": "code",
   "execution_count": 2,
   "id": "ce348488-0659-4dfc-ae9e-5be156db31f2",
   "metadata": {},
   "outputs": [
    {
     "name": "stdout",
     "output_type": "stream",
     "text": [
      "Requirement already satisfied: hda in c:\\users\\zaca1262\\appdata\\local\\anaconda3\\lib\\site-packages (2.29)\n",
      "Requirement already satisfied: requests>=2.5.0 in c:\\users\\zaca1262\\appdata\\local\\anaconda3\\lib\\site-packages (from hda) (2.31.0)\n",
      "Requirement already satisfied: tqdm in c:\\users\\zaca1262\\appdata\\local\\anaconda3\\lib\\site-packages (from hda) (4.65.0)\n",
      "Requirement already satisfied: charset-normalizer<4,>=2 in c:\\users\\zaca1262\\appdata\\local\\anaconda3\\lib\\site-packages (from requests>=2.5.0->hda) (2.0.4)\n",
      "Requirement already satisfied: idna<4,>=2.5 in c:\\users\\zaca1262\\appdata\\local\\anaconda3\\lib\\site-packages (from requests>=2.5.0->hda) (3.4)\n",
      "Requirement already satisfied: urllib3<3,>=1.21.1 in c:\\users\\zaca1262\\appdata\\local\\anaconda3\\lib\\site-packages (from requests>=2.5.0->hda) (2.0.7)\n",
      "Requirement already satisfied: certifi>=2017.4.17 in c:\\users\\zaca1262\\appdata\\local\\anaconda3\\lib\\site-packages (from requests>=2.5.0->hda) (2024.6.2)\n",
      "Requirement already satisfied: colorama in c:\\users\\zaca1262\\appdata\\local\\anaconda3\\lib\\site-packages (from tqdm->hda) (0.4.6)\n",
      "Note: you may need to restart the kernel to use updated packages.\n"
     ]
    }
   ],
   "source": [
    "pip install -U hda"
   ]
  },
  {
   "cell_type": "code",
   "execution_count": 3,
   "id": "3fa7be78-c024-4d42-a05f-b82c4f8880cf",
   "metadata": {},
   "outputs": [],
   "source": [
    "import requests\n",
    "import tqdm\n",
    "from hda import Client, Configuration"
   ]
  },
  {
   "cell_type": "code",
   "execution_count": 4,
   "id": "0e30aef6-f15b-4172-bc59-f3751db4ec0e",
   "metadata": {},
   "outputs": [],
   "source": [
    "dataset_id = \"EO:ECMWF:DAT:REANALYSIS_ERA5_SINGLE_LEVELS_MONTHLY_MEANS\""
   ]
  },
  {
   "cell_type": "code",
   "execution_count": 5,
   "id": "dc632e24-f8a4-435e-acf9-3aeb0b98d4ad",
   "metadata": {},
   "outputs": [
    {
     "data": {
      "text/plain": [
       "{'dataset_id': 'EO:ECMWF:DAT:REANALYSIS_ERA5_SINGLE_LEVELS_MONTHLY_MEANS',\n",
       " 'itemsPerPage': 200,\n",
       " 'startIndex': 0}"
      ]
     },
     "execution_count": 5,
     "metadata": {},
     "output_type": "execute_result"
    }
   ],
   "source": [
    "{\n",
    "  \"dataset_id\": \"EO:ECMWF:DAT:REANALYSIS_ERA5_SINGLE_LEVELS_MONTHLY_MEANS\",\n",
    "  \"itemsPerPage\": 200,\n",
    "  \"startIndex\": 0\n",
    "}"
   ]
  },
  {
   "cell_type": "markdown",
   "id": "335742a6-97e5-4de3-87c7-11388c44c029",
   "metadata": {},
   "source": [
    "# Total Precipitation and Snowfall"
   ]
  },
  {
   "cell_type": "code",
   "execution_count": 8,
   "id": "5ed02633-05cd-45ff-a456-2ab9e47f5c8b",
   "metadata": {},
   "outputs": [],
   "source": [
    "data = {\n",
    "  \"dataset_id\": \"EO:ECMWF:DAT:REANALYSIS_ERA5_SINGLE_LEVELS_MONTHLY_MEANS\",\n",
    "  \"product_type\": [\n",
    "    \"monthly_averaged_reanalysis\"\n",
    "  ],\n",
    "  \"variable\": [\n",
    "    \"Total Precipitation\" , \"Snowfall\" , \"2m_temperature\"\n",
    "  ],\n",
    "  \"year\": [\n",
    "    \"1979\",\n",
    "    \"1980\",\n",
    "    \"1981\",\n",
    "    \"1982\",\n",
    "    \"1983\",\n",
    "    \"1984\",\n",
    "    \"1985\",\n",
    "    \"1986\",\n",
    "    \"1987\",\n",
    "    \"1988\",\n",
    "    \"1989\",\n",
    "    \"1990\",\n",
    "    \"1991\",\n",
    "    \"1992\",\n",
    "    \"1993\",\n",
    "    \"1994\",\n",
    "    \"1995\",\n",
    "    \"1996\",\n",
    "    \"1997\",\n",
    "    \"1998\",\n",
    "    \"1999\",\n",
    "    \"2000\",\n",
    "    \"2001\",\n",
    "    \"2002\",\n",
    "    \"2003\",\n",
    "    \"2004\",\n",
    "    \"2005\",\n",
    "    \"2006\",\n",
    "    \"2007\",\n",
    "    \"2008\",\n",
    "    \"2009\",\n",
    "    \"2010\",\n",
    "    \"2011\",\n",
    "    \"2012\",\n",
    "    \"2013\",\n",
    "    \"2014\",\n",
    "    \"2015\",\n",
    "    \"2016\",\n",
    "    \"2017\",\n",
    "    \"2018\",\n",
    "    \"2019\",\n",
    "    \"2020\",\n",
    "    \"2021\",\n",
    "    \"2022\",\n",
    "    \"2023\"\n",
    "      ],\n",
    "  \n",
    "  \"month\": [\n",
    "    \"01\",\n",
    "    \"02\",\n",
    "    \"03\",\n",
    "    \"04\",\n",
    "    \"05\",\n",
    "    \"06\",\n",
    "    \"07\",\n",
    "    \"08\",\n",
    "    \"09\",\n",
    "    \"10\", \n",
    "    \"11\",\n",
    "    \"12\"],\n",
    "  \"time\": [\n",
    "    \"00:00\",\n",
    "    \"06:00\",\n",
    "    \"12:00\",\n",
    "    \"18:00\"\n",
    "  ],\n",
    "  \"bbox\": [\n",
    "    -180,\n",
    "    90,\n",
    "    180,\n",
    "    60\n",
    "  ],\n",
    "  \"format\": \"netcdf\",\n",
    "  \"itemsPerPage\": 200,\n",
    "  \"startIndex\": 0\n",
    "}"
   ]
  },
  {
   "cell_type": "code",
   "execution_count": 17,
   "id": "6397774e-b27a-48df-8bbf-a1818621ab4d",
   "metadata": {},
   "outputs": [
    {
     "name": "stdout",
     "output_type": "stream",
     "text": [
      "Selected netCDF file: reanalysis-era5-single-levels-monthly-means-27135186e2ed04fa1cdef664179a1156.nc\n"
     ]
    }
   ],
   "source": [
    "# get filename of latest .nc downloaded file \n",
    "files = [file for file in os.listdir(\".\") if (file.lower().endswith('.nc'))]\n",
    "list_nc_file = []\n",
    "\n",
    "for file in sorted(files,key=os.path.getmtime, reverse=True):\n",
    "    list_nc_file.append(file)\n",
    "    \n",
    "print(f'Selected netCDF file: {list_nc_file[0]}')  "
   ]
  },
  {
   "cell_type": "code",
   "execution_count": 19,
   "id": "540b72de-2ae5-4b04-913a-1ddfa2d972de",
   "metadata": {},
   "outputs": [
    {
     "name": "stdout",
     "output_type": "stream",
     "text": [
      "<xarray.Dataset>\n",
      "Dimensions:    (date: 540, latitude: 121, longitude: 1440)\n",
      "Coordinates:\n",
      "    number     int64 ...\n",
      "  * date       (date) int64 19790101 19790201 19790301 ... 20231101 20231201\n",
      "  * latitude   (latitude) float64 90.0 89.75 89.5 89.25 ... 60.5 60.25 60.0\n",
      "  * longitude  (longitude) float64 -180.0 -179.8 -179.5 ... 179.2 179.5 179.8\n",
      "    expver     (date) object ...\n",
      "Data variables:\n",
      "    tp         (date, latitude, longitude) float32 ...\n",
      "    sf         (date, latitude, longitude) float32 ...\n",
      "Attributes:\n",
      "    GRIB_centre:             ecmf\n",
      "    GRIB_centreDescription:  European Centre for Medium-Range Weather Forecasts\n",
      "    GRIB_subCentre:          0\n",
      "    Conventions:             CF-1.7\n",
      "    institution:             European Centre for Medium-Range Weather Forecasts\n",
      "    history:                 2024-10-08T17:54 GRIB to CDM+CF via cfgrib-0.9.1...\n"
     ]
    }
   ],
   "source": [
    "# Define the path to your NetCDF file\n",
    "file_path = \"reanalysis-era5-single-levels-monthly-means-d891cf072f02d7845c0ec8350ca6478a.nc\"\n",
    "\n",
    "# Load NetCDF file\n",
    "ds = xr.open_dataset(file_path)\n",
    "\n",
    "# Print dataset to understand its structure\n",
    "print(ds)\n",
    "\n",
    "# Extract the Total Precipitation and Snowfall variables\n",
    "tp = ds['tp']  # total precipitation variable\n",
    "sf = ds['sf']  # snowfall variable"
   ]
  },
  {
   "cell_type": "code",
   "execution_count": 20,
   "id": "d83f88d3-def3-49ea-8dcf-09795ecc2a94",
   "metadata": {},
   "outputs": [
    {
     "name": "stdout",
     "output_type": "stream",
     "text": [
      "<xarray.DataArray 'tp' (date: 540, latitude: 121, longitude: 1440)>\n",
      "[94089600 values with dtype=float32]\n",
      "Coordinates:\n",
      "    number     int64 ...\n",
      "  * date       (date) int64 19790101 19790201 19790301 ... 20231101 20231201\n",
      "  * latitude   (latitude) float64 90.0 89.75 89.5 89.25 ... 60.5 60.25 60.0\n",
      "  * longitude  (longitude) float64 -180.0 -179.8 -179.5 ... 179.2 179.5 179.8\n",
      "    expver     (date) object ...\n",
      "Attributes: (12/32)\n",
      "    GRIB_paramId:                             228\n",
      "    GRIB_dataType:                            fc\n",
      "    GRIB_numberOfPoints:                      174240\n",
      "    GRIB_typeOfLevel:                         surface\n",
      "    GRIB_stepUnits:                           1\n",
      "    GRIB_stepType:                            avgad\n",
      "    ...                                       ...\n",
      "    GRIB_totalNumber:                         0\n",
      "    GRIB_units:                               m\n",
      "    long_name:                                Total precipitation\n",
      "    units:                                    m\n",
      "    standard_name:                            unknown\n",
      "    GRIB_surface:                             0.0\n"
     ]
    }
   ],
   "source": [
    "print(tp)"
   ]
  },
  {
   "cell_type": "code",
   "execution_count": null,
   "id": "33be7ee7-d52c-4c8a-80b4-324a91427934",
   "metadata": {},
   "outputs": [],
   "source": [
    " "
   ]
  }
 ],
 "metadata": {
  "kernelspec": {
   "display_name": "Python 3 (ipykernel)",
   "language": "python",
   "name": "python3"
  },
  "language_info": {
   "codemirror_mode": {
    "name": "ipython",
    "version": 3
   },
   "file_extension": ".py",
   "mimetype": "text/x-python",
   "name": "python",
   "nbconvert_exporter": "python",
   "pygments_lexer": "ipython3",
   "version": "3.11.7"
  }
 },
 "nbformat": 4,
 "nbformat_minor": 5
}
