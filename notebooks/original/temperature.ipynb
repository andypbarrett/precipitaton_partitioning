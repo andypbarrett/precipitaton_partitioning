{
 "cells": [
  {
   "cell_type": "code",
   "execution_count": 2,
   "id": "85353bef-45b8-4491-a989-a9db16d36afc",
   "metadata": {},
   "outputs": [],
   "source": [
    "# Libraries for working with multidimensional arrays\n",
    "import numpy as np\n",
    "import xarray as xr\n",
    "import pandas as pd\n",
    "\n",
    "# Libraries for plotting and visualising data\n",
    "import matplotlib.path as mpath\n",
    "import matplotlib.pyplot as plt\n",
    "import cartopy.crs as ccrs\n",
    "from cartopy.mpl.gridliner import LONGITUDE_FORMATTER, LATITUDE_FORMATTER\n",
    "import cartopy.feature as cfeature\n",
    "\n",
    "\n",
    "import os\n",
    "import sys\n",
    "import json\n",
    "from zipfile import ZipFile\n",
    "import time\n",
    "import base64\n",
    "from IPython.core.display import HTML\n",
    "\n",
    "import requests\n",
    "import warnings\n",
    "warnings.filterwarnings('ignore')"
   ]
  },
  {
   "cell_type": "code",
   "execution_count": 3,
   "id": "ee829b7d-b8d9-4c38-9467-35497beeb20f",
   "metadata": {},
   "outputs": [
    {
     "name": "stdout",
     "output_type": "stream",
     "text": [
      "Requirement already satisfied: hda in c:\\users\\zaca1262\\appdata\\local\\anaconda3\\lib\\site-packages (2.18)\n",
      "Requirement already satisfied: requests>=2.5.0 in c:\\users\\zaca1262\\appdata\\local\\anaconda3\\lib\\site-packages (from hda) (2.31.0)\n",
      "Requirement already satisfied: tqdm in c:\\users\\zaca1262\\appdata\\local\\anaconda3\\lib\\site-packages (from hda) (4.65.0)\n",
      "Requirement already satisfied: charset-normalizer<4,>=2 in c:\\users\\zaca1262\\appdata\\local\\anaconda3\\lib\\site-packages (from requests>=2.5.0->hda) (2.0.4)\n",
      "Requirement already satisfied: idna<4,>=2.5 in c:\\users\\zaca1262\\appdata\\local\\anaconda3\\lib\\site-packages (from requests>=2.5.0->hda) (3.4)\n",
      "Requirement already satisfied: urllib3<3,>=1.21.1 in c:\\users\\zaca1262\\appdata\\local\\anaconda3\\lib\\site-packages (from requests>=2.5.0->hda) (2.0.7)\n",
      "Requirement already satisfied: certifi>=2017.4.17 in c:\\users\\zaca1262\\appdata\\local\\anaconda3\\lib\\site-packages (from requests>=2.5.0->hda) (2024.6.2)\n",
      "Requirement already satisfied: colorama in c:\\users\\zaca1262\\appdata\\local\\anaconda3\\lib\\site-packages (from tqdm->hda) (0.4.6)\n",
      "Note: you may need to restart the kernel to use updated packages.\n"
     ]
    }
   ],
   "source": [
    "pip install -U hda"
   ]
  },
  {
   "cell_type": "code",
   "execution_count": 4,
   "id": "e50a4ae9-6194-45ad-9ffb-d1c211e4de3e",
   "metadata": {},
   "outputs": [],
   "source": [
    "import requests\n",
    "import tqdm\n",
    "from hda import Client, Configuration"
   ]
  },
  {
   "cell_type": "code",
   "execution_count": 5,
   "id": "1dff0262-9dc4-46ef-b946-934fd7b77a67",
   "metadata": {},
   "outputs": [],
   "source": [
    "dataset_id = \"EO:ECMWF:DAT:REANALYSIS_ERA5_SINGLE_LEVELS_MONTHLY_MEANS\""
   ]
  },
  {
   "cell_type": "code",
   "execution_count": 6,
   "id": "c79ff9cb-248f-419f-814a-f0d27bca67ad",
   "metadata": {},
   "outputs": [
    {
     "data": {
      "text/plain": [
       "{'dataset_id': 'EO:ECMWF:DAT:REANALYSIS_ERA5_SINGLE_LEVELS_MONTHLY_MEANS',\n",
       " 'itemsPerPage': 200,\n",
       " 'startIndex': 0}"
      ]
     },
     "execution_count": 6,
     "metadata": {},
     "output_type": "execute_result"
    }
   ],
   "source": [
    "{\n",
    "  \"dataset_id\": \"EO:ECMWF:DAT:REANALYSIS_ERA5_SINGLE_LEVELS_MONTHLY_MEANS\",\n",
    "  \"itemsPerPage\": 200,\n",
    "  \"startIndex\": 0\n",
    "}"
   ]
  },
  {
   "cell_type": "code",
   "execution_count": 9,
   "id": "70a418ce-e518-4d3f-a29c-74155ea8c86a",
   "metadata": {},
   "outputs": [],
   "source": [
    "data = {\n",
    "  \"dataset_id\": \"EO:ECMWF:DAT:REANALYSIS_ERA5_SINGLE_LEVELS_MONTHLY_MEANS\",\n",
    "  \"product_type\": [\n",
    "    \"monthly_averaged_reanalysis\"\n",
    "  ],\n",
    "  \"variable\": [\n",
    "    \"Total Precipitation\" , \"Snowfall\" , \"2m_temperature\"\n",
    "  ],\n",
    "  \"year\": [\n",
    "    \"1979\",\n",
    "    \"1980\",\n",
    "    \"1981\",\n",
    "    \"1982\",\n",
    "    \"1983\",\n",
    "    \"1984\",\n",
    "    \"1985\",\n",
    "    \"1986\",\n",
    "    \"1987\",\n",
    "    \"1988\",\n",
    "    \"1989\",\n",
    "    \"1990\",\n",
    "    \"1991\",\n",
    "    \"1992\",\n",
    "    \"1993\",\n",
    "    \"1994\",\n",
    "    \"1995\",\n",
    "    \"1996\",\n",
    "    \"1997\",\n",
    "    \"1998\",\n",
    "    \"1999\",\n",
    "    \"2000\",\n",
    "    \"2001\",\n",
    "    \"2002\",\n",
    "    \"2003\",\n",
    "    \"2004\",\n",
    "    \"2005\",\n",
    "    \"2006\",\n",
    "    \"2007\",\n",
    "    \"2008\",\n",
    "    \"2009\",\n",
    "    \"2010\",\n",
    "    \"2011\",\n",
    "    \"2012\",\n",
    "    \"2013\",\n",
    "    \"2014\",\n",
    "    \"2015\",\n",
    "    \"2016\",\n",
    "    \"2017\",\n",
    "    \"2018\",\n",
    "    \"2019\",\n",
    "    \"2020\",\n",
    "    \"2021\",\n",
    "    \"2022\",\n",
    "    \"2023\"\n",
    "      ],\n",
    "  \n",
    "  \"month\": [\n",
    "    \"01\",\n",
    "    \"02\",\n",
    "    \"03\",\n",
    "    \"04\",\n",
    "    \"05\",\n",
    "    \"06\",\n",
    "    \"07\",\n",
    "    \"08\",\n",
    "    \"09\",\n",
    "    \"10\", \n",
    "    \"11\",\n",
    "    \"12\"],\n",
    "  \"time\": [\n",
    "    \"00:00\",\n",
    "    \"06:00\",\n",
    "    \"12:00\",\n",
    "    \"18:00\"\n",
    "  ],\n",
    "  \"bbox\": [\n",
    "    -180,\n",
    "    90,\n",
    "    180,\n",
    "    60\n",
    "  ],\n",
    "  \"format\": \"netcdf\",\n",
    "  \"itemsPerPage\": 200,\n",
    "  \"startIndex\": 0\n",
    "}"
   ]
  },
  {
   "cell_type": "code",
   "execution_count": 10,
   "id": "d4fa92c6-2f4c-4e5d-8001-3d0601ef63a1",
   "metadata": {},
   "outputs": [
    {
     "ename": "HTTPError",
     "evalue": "401 Client Error: Unauthorized for url: https://gateway.prod.wekeo2.eu/hda-broker/api/v1/dataaccess/search",
     "output_type": "error",
     "traceback": [
      "\u001b[1;31m---------------------------------------------------------------------------\u001b[0m",
      "\u001b[1;31mHTTPError\u001b[0m                                 Traceback (most recent call last)",
      "Cell \u001b[1;32mIn[10], line 6\u001b[0m\n\u001b[0;32m      3\u001b[0m     \u001b[38;5;66;03m#hda_client = Client(config = conf)\u001b[39;00m\n\u001b[0;32m      4\u001b[0m     \u001b[38;5;66;03m#c = Client(debug=True)\u001b[39;00m\n\u001b[0;32m      5\u001b[0m c \u001b[38;5;241m=\u001b[39m Client(config\u001b[38;5;241m=\u001b[39mconf, max_workers\u001b[38;5;241m=\u001b[39m\u001b[38;5;241m12\u001b[39m)\n\u001b[1;32m----> 6\u001b[0m matches \u001b[38;5;241m=\u001b[39m c\u001b[38;5;241m.\u001b[39msearch(data)\n\u001b[0;32m      7\u001b[0m \u001b[38;5;28mprint\u001b[39m(matches)\n\u001b[0;32m      8\u001b[0m matches\u001b[38;5;241m.\u001b[39mdownload()\n",
      "File \u001b[1;32m~\\AppData\\Local\\anaconda3\\Lib\\site-packages\\hda\\api.py:607\u001b[0m, in \u001b[0;36mClient.search\u001b[1;34m(self, query, limit)\u001b[0m\n\u001b[0;32m    605\u001b[0m \u001b[38;5;28mself\u001b[39m\u001b[38;5;241m.\u001b[39maccept_tac(query[\u001b[38;5;124m\"\u001b[39m\u001b[38;5;124mdataset_id\u001b[39m\u001b[38;5;124m\"\u001b[39m])\n\u001b[0;32m    606\u001b[0m results \u001b[38;5;241m=\u001b[39m SearchPaginator(\u001b[38;5;28mself\u001b[39m\u001b[38;5;241m.\u001b[39mpost)\u001b[38;5;241m.\u001b[39mrun(query\u001b[38;5;241m=\u001b[39mquery, limit\u001b[38;5;241m=\u001b[39mlimit)\n\u001b[1;32m--> 607\u001b[0m \u001b[38;5;28;01mreturn\u001b[39;00m SearchResults(\u001b[38;5;28mself\u001b[39m, \u001b[38;5;28mlist\u001b[39m(results), query[\u001b[38;5;124m\"\u001b[39m\u001b[38;5;124mdataset_id\u001b[39m\u001b[38;5;124m\"\u001b[39m])\n",
      "File \u001b[1;32m~\\AppData\\Local\\anaconda3\\Lib\\site-packages\\hda\\api.py:139\u001b[0m, in \u001b[0;36mPaginator.run\u001b[1;34m(self, query, limit, items_per_page)\u001b[0m\n\u001b[0;32m    134\u001b[0m params \u001b[38;5;241m=\u001b[39m {\n\u001b[0;32m    135\u001b[0m     \u001b[38;5;124m\"\u001b[39m\u001b[38;5;124mstartIndex\u001b[39m\u001b[38;5;124m\"\u001b[39m: \u001b[38;5;241m0\u001b[39m,\n\u001b[0;32m    136\u001b[0m     \u001b[38;5;124m\"\u001b[39m\u001b[38;5;124mitemsPerPage\u001b[39m\u001b[38;5;124m\"\u001b[39m: items_per_page,\n\u001b[0;32m    137\u001b[0m }\n\u001b[0;32m    138\u001b[0m query\u001b[38;5;241m.\u001b[39mupdate(params)\n\u001b[1;32m--> 139\u001b[0m page \u001b[38;5;241m=\u001b[39m \u001b[38;5;28mself\u001b[39m\u001b[38;5;241m.\u001b[39mmake_request(query)\n\u001b[0;32m    140\u001b[0m \u001b[38;5;28;01myield from\u001b[39;00m \u001b[38;5;28mself\u001b[39m\u001b[38;5;241m.\u001b[39myield_result(page, limit)\n\u001b[0;32m    142\u001b[0m prop \u001b[38;5;241m=\u001b[39m page[\u001b[38;5;124m\"\u001b[39m\u001b[38;5;124mproperties\u001b[39m\u001b[38;5;124m\"\u001b[39m]\n",
      "File \u001b[1;32m~\\AppData\\Local\\anaconda3\\Lib\\site-packages\\hda\\api.py:128\u001b[0m, in \u001b[0;36mPaginator.make_request\u001b[1;34m(self, query)\u001b[0m\n\u001b[0;32m    126\u001b[0m     \u001b[38;5;28;01mreturn\u001b[39;00m \u001b[38;5;28mself\u001b[39m\u001b[38;5;241m.\u001b[39mrequest(\u001b[38;5;28mself\u001b[39m\u001b[38;5;241m.\u001b[39maction, \u001b[38;5;241m*\u001b[39m\u001b[38;5;241m*\u001b[39mquery)\n\u001b[0;32m    127\u001b[0m \u001b[38;5;28;01melif\u001b[39;00m \u001b[38;5;28mself\u001b[39m\u001b[38;5;241m.\u001b[39mrequest_type \u001b[38;5;241m==\u001b[39m RequestType\u001b[38;5;241m.\u001b[39mPOST:\n\u001b[1;32m--> 128\u001b[0m     \u001b[38;5;28;01mreturn\u001b[39;00m \u001b[38;5;28mself\u001b[39m\u001b[38;5;241m.\u001b[39mrequest(query, \u001b[38;5;28mself\u001b[39m\u001b[38;5;241m.\u001b[39maction)\n",
      "File \u001b[1;32m~\\AppData\\Local\\anaconda3\\Lib\\site-packages\\hda\\api.py:695\u001b[0m, in \u001b[0;36mClient.post\u001b[1;34m(self, message, *args)\u001b[0m\n\u001b[0;32m    691\u001b[0m logger\u001b[38;5;241m.\u001b[39mdebug(\u001b[38;5;124m\"\u001b[39m\u001b[38;5;124m===> POST \u001b[39m\u001b[38;5;132;01m%s\u001b[39;00m\u001b[38;5;124m\"\u001b[39m, shorten(message))\n\u001b[0;32m    692\u001b[0m res \u001b[38;5;241m=\u001b[39m \u001b[38;5;28mself\u001b[39m\u001b[38;5;241m.\u001b[39mrobust(\u001b[38;5;28mself\u001b[39m\u001b[38;5;241m.\u001b[39msession\u001b[38;5;241m.\u001b[39mpost)(\n\u001b[0;32m    693\u001b[0m     full, json\u001b[38;5;241m=\u001b[39mmessage, verify\u001b[38;5;241m=\u001b[39m\u001b[38;5;28mself\u001b[39m\u001b[38;5;241m.\u001b[39mconfig\u001b[38;5;241m.\u001b[39mverify, timeout\u001b[38;5;241m=\u001b[39m\u001b[38;5;28mself\u001b[39m\u001b[38;5;241m.\u001b[39mtimeout\n\u001b[0;32m    694\u001b[0m )\n\u001b[1;32m--> 695\u001b[0m res\u001b[38;5;241m.\u001b[39mraise_for_status()\n\u001b[0;32m    696\u001b[0m result \u001b[38;5;241m=\u001b[39m res\u001b[38;5;241m.\u001b[39mjson()\n\u001b[0;32m    697\u001b[0m logger\u001b[38;5;241m.\u001b[39mdebug(\u001b[38;5;124m\"\u001b[39m\u001b[38;5;124m<=== \u001b[39m\u001b[38;5;132;01m%s\u001b[39;00m\u001b[38;5;124m\"\u001b[39m, shorten(result))\n",
      "File \u001b[1;32m~\\AppData\\Local\\anaconda3\\Lib\\site-packages\\requests\\models.py:1021\u001b[0m, in \u001b[0;36mResponse.raise_for_status\u001b[1;34m(self)\u001b[0m\n\u001b[0;32m   1016\u001b[0m     http_error_msg \u001b[38;5;241m=\u001b[39m (\n\u001b[0;32m   1017\u001b[0m         \u001b[38;5;124mf\u001b[39m\u001b[38;5;124m\"\u001b[39m\u001b[38;5;132;01m{\u001b[39;00m\u001b[38;5;28mself\u001b[39m\u001b[38;5;241m.\u001b[39mstatus_code\u001b[38;5;132;01m}\u001b[39;00m\u001b[38;5;124m Server Error: \u001b[39m\u001b[38;5;132;01m{\u001b[39;00mreason\u001b[38;5;132;01m}\u001b[39;00m\u001b[38;5;124m for url: \u001b[39m\u001b[38;5;132;01m{\u001b[39;00m\u001b[38;5;28mself\u001b[39m\u001b[38;5;241m.\u001b[39murl\u001b[38;5;132;01m}\u001b[39;00m\u001b[38;5;124m\"\u001b[39m\n\u001b[0;32m   1018\u001b[0m     )\n\u001b[0;32m   1020\u001b[0m \u001b[38;5;28;01mif\u001b[39;00m http_error_msg:\n\u001b[1;32m-> 1021\u001b[0m     \u001b[38;5;28;01mraise\u001b[39;00m HTTPError(http_error_msg, response\u001b[38;5;241m=\u001b[39m\u001b[38;5;28mself\u001b[39m)\n",
      "\u001b[1;31mHTTPError\u001b[0m: 401 Client Error: Unauthorized for url: https://gateway.prod.wekeo2.eu/hda-broker/api/v1/dataaccess/search"
     ]
    }
   ],
   "source": [
    "#def load_data():\n",
    "conf = Configuration(user = \"zcasty\", password = \"green1234Zaria\")\n",
    "    #hda_client = Client(config = conf)\n",
    "    #c = Client(debug=True)\n",
    "c = Client(config=conf, max_workers=12)\n",
    "matches = c.search(data)\n",
    "print(matches)\n",
    "matches.download()"
   ]
  },
  {
   "cell_type": "code",
   "execution_count": null,
   "id": "ed4abbc0-58ca-4bcc-9d41-6450c9877d40",
   "metadata": {},
   "outputs": [],
   "source": [
    "# get filename of latest .nc downloaded file \n",
    "files = [file for file in os.listdir(\".\") if (file.lower().endswith('.nc'))]\n",
    "list_nc_file = [] \n",
    "\n",
    "for file in sorted(files,key=os.path.getmtime, reverse=True):\n",
    "    list_nc_file.append(file)\n",
    "    \n",
    "print(f'Selected netCDF file: {list_nc_file[0]}')  "
   ]
  },
  {
   "cell_type": "code",
   "execution_count": null,
   "id": "39507f63-58d8-454d-ba87-bdb42df68485",
   "metadata": {},
   "outputs": [],
   "source": []
  }
 ],
 "metadata": {
  "kernelspec": {
   "display_name": "Python 3 (ipykernel)",
   "language": "python",
   "name": "python3"
  },
  "language_info": {
   "codemirror_mode": {
    "name": "ipython",
    "version": 3
   },
   "file_extension": ".py",
   "mimetype": "text/x-python",
   "name": "python",
   "nbconvert_exporter": "python",
   "pygments_lexer": "ipython3",
   "version": "3.11.7"
  }
 },
 "nbformat": 4,
 "nbformat_minor": 5
}
