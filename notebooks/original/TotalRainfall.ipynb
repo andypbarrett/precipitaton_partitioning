{
 "cells": [
  {
   "cell_type": "code",
   "execution_count": 1,
   "id": "b0643503-8c0c-43e3-94c0-546d4d908178",
   "metadata": {},
   "outputs": [],
   "source": [
    "# Libraries for working with multidimensional arrays\n",
    "import numpy as np\n",
    "import xarray as xr\n",
    "import pandas as pd\n",
    "\n",
    "# Libraries for plotting and visualising data\n",
    "import matplotlib.path as mpath\n",
    "import matplotlib.pyplot as plt\n",
    "import cartopy.crs as ccrs\n",
    "from cartopy.mpl.gridliner import LONGITUDE_FORMATTER, LATITUDE_FORMATTER\n",
    "import cartopy.feature as cfeature\n",
    "\n",
    "\n",
    "import os\n",
    "import sys\n",
    "import json\n",
    "from zipfile import ZipFile\n",
    "import time\n",
    "import base64\n",
    "from IPython.core.display import HTML\n",
    "\n",
    "import requests\n",
    "import warnings\n",
    "warnings.filterwarnings('ignore')"
   ]
  },
  {
   "cell_type": "code",
   "execution_count": 2,
   "id": "a0e3ff9c-19c3-40b9-9256-e87698bbe8a6",
   "metadata": {},
   "outputs": [
    {
     "name": "stdout",
     "output_type": "stream",
     "text": [
      "Requirement already satisfied: hda in c:\\users\\zaca1262\\appdata\\local\\anaconda3\\lib\\site-packages (2.17)\n",
      "Requirement already satisfied: requests>=2.5.0 in c:\\users\\zaca1262\\appdata\\local\\anaconda3\\lib\\site-packages (from hda) (2.31.0)\n",
      "Requirement already satisfied: tqdm in c:\\users\\zaca1262\\appdata\\local\\anaconda3\\lib\\site-packages (from hda) (4.65.0)\n",
      "Requirement already satisfied: charset-normalizer<4,>=2 in c:\\users\\zaca1262\\appdata\\local\\anaconda3\\lib\\site-packages (from requests>=2.5.0->hda) (2.0.4)\n",
      "Requirement already satisfied: idna<4,>=2.5 in c:\\users\\zaca1262\\appdata\\local\\anaconda3\\lib\\site-packages (from requests>=2.5.0->hda) (3.4)\n",
      "Requirement already satisfied: urllib3<3,>=1.21.1 in c:\\users\\zaca1262\\appdata\\local\\anaconda3\\lib\\site-packages (from requests>=2.5.0->hda) (2.0.7)\n",
      "Requirement already satisfied: certifi>=2017.4.17 in c:\\users\\zaca1262\\appdata\\local\\anaconda3\\lib\\site-packages (from requests>=2.5.0->hda) (2024.6.2)\n",
      "Requirement already satisfied: colorama in c:\\users\\zaca1262\\appdata\\local\\anaconda3\\lib\\site-packages (from tqdm->hda) (0.4.6)\n",
      "Note: you may need to restart the kernel to use updated packages.\n"
     ]
    }
   ],
   "source": [
    "pip install -U hda"
   ]
  },
  {
   "cell_type": "code",
   "execution_count": 3,
   "id": "de2079b2-9f28-4453-a40d-823849405cb9",
   "metadata": {},
   "outputs": [],
   "source": [
    "import requests\n",
    "import tqdm\n",
    "from hda import Client, Configuration"
   ]
  },
  {
   "cell_type": "code",
   "execution_count": 4,
   "id": "47d33c0e-5827-43ad-a179-e00891f694dd",
   "metadata": {},
   "outputs": [],
   "source": [
    "dataset_id = \"EO:ECMWF:DAT:REANALYSIS_ERA5_SINGLE_LEVELS_MONTHLY_MEANS\""
   ]
  },
  {
   "cell_type": "code",
   "execution_count": 5,
   "id": "71244cae-11dd-490b-b411-49316e532c12",
   "metadata": {},
   "outputs": [
    {
     "data": {
      "text/plain": [
       "{'dataset_id': 'EO:ECMWF:DAT:REANALYSIS_ERA5_SINGLE_LEVELS_MONTHLY_MEANS',\n",
       " 'itemsPerPage': 200,\n",
       " 'startIndex': 0}"
      ]
     },
     "execution_count": 5,
     "metadata": {},
     "output_type": "execute_result"
    }
   ],
   "source": [
    "{\n",
    "  \"dataset_id\": \"EO:ECMWF:DAT:REANALYSIS_ERA5_SINGLE_LEVELS_MONTHLY_MEANS\",\n",
    "  \"itemsPerPage\": 200,\n",
    "  \"startIndex\": 0\n",
    "}"
   ]
  },
  {
   "cell_type": "code",
   "execution_count": 6,
   "id": "384cafae-eb76-4060-9650-1ee71f6474ce",
   "metadata": {},
   "outputs": [],
   "source": [
    "data = {\n",
    "  \"dataset_id\": \"EO:ECMWF:DAT:REANALYSIS_ERA5_SINGLE_LEVELS_MONTHLY_MEANS\",\n",
    "  \"product_type\": [\n",
    "    \"monthly_averaged_reanalysis\"\n",
    "  ],\n",
    "  \"variable\": [\n",
    "    \"Convective precipitation\" , \"Large-scale precipitation\"\n",
    "  ],\n",
    "  \"year\": [\n",
    "    \"1979\",\n",
    "    \"1980\",\n",
    "    \"1981\",\n",
    "    \"1982\",\n",
    "    \"1983\",\n",
    "    \"1984\",\n",
    "    \"1985\",\n",
    "    \"1986\",\n",
    "    \"1987\",\n",
    "    \"1988\",\n",
    "    \"1989\",\n",
    "    \"1990\",\n",
    "    \"1991\",\n",
    "    \"1992\",\n",
    "    \"1993\",\n",
    "    \"1994\",\n",
    "    \"1995\",\n",
    "    \"1996\",\n",
    "    \"1997\",\n",
    "    \"1998\",\n",
    "    \"1999\",\n",
    "    \"2000\",\n",
    "    \"2001\",\n",
    "    \"2002\",\n",
    "    \"2003\",\n",
    "    \"2004\",\n",
    "    \"2005\",\n",
    "    \"2006\",\n",
    "    \"2007\",\n",
    "    \"2008\",\n",
    "    \"2009\",\n",
    "    \"2010\",\n",
    "    \"2011\",\n",
    "    \"2012\",\n",
    "    \"2013\",\n",
    "    \"2014\",\n",
    "    \"2015\",\n",
    "    \"2016\",\n",
    "    \"2017\",\n",
    "    \"2018\",\n",
    "    \"2019\",\n",
    "    \"2020\",\n",
    "    \"2021\",\n",
    "    \"2022\",\n",
    "    \"2023\"\n",
    "      ],\n",
    "  \n",
    "  \"month\": [\n",
    "    \"01\",\n",
    "    \"02\",\n",
    "    \"03\",\n",
    "    \"04\",\n",
    "    \"05\",\n",
    "    \"06\",\n",
    "    \"07\",\n",
    "    \"08\",\n",
    "    \"09\",\n",
    "    \"10\", \n",
    "    \"11\",\n",
    "    \"12\"],\n",
    "  \"time\": [\n",
    "    \"00:00\",\n",
    "    \"06:00\",\n",
    "    \"12:00\",\n",
    "    \"18:00\"\n",
    "  ],\n",
    "  \"bbox\": [\n",
    "    -180,\n",
    "    90,\n",
    "    180,\n",
    "    60\n",
    "  ],\n",
    "  \"format\": \"netcdf\",\n",
    "  \"itemsPerPage\": 200,\n",
    "  \"startIndex\": 0\n",
    "}"
   ]
  },
  {
   "cell_type": "code",
   "execution_count": 9,
   "id": "19f3f990-3fd4-4282-98e6-520fc288ebdb",
   "metadata": {},
   "outputs": [
    {
     "name": "stdout",
     "output_type": "stream",
     "text": [
      "SearchResults[items=1,volume=ND]\n"
     ]
    }
   ],
   "source": [
    "def load_data():\n",
    "    conf = Configuration(user = \"zcasty\", password = \"green1234Zaria\")\n",
    "    #hda_client = Client(config = conf)\n",
    "    #c = Client(debug=True)\n",
    "c = Client(config=conf, max_workers=12)\n",
    "matches = c.search(data)\n",
    "print(matches)\n",
    "matches.download()"
   ]
  },
  {
   "cell_type": "code",
   "execution_count": 10,
   "id": "bc1f0fb1-4bb9-4d89-9417-c9ed474e820a",
   "metadata": {},
   "outputs": [
    {
     "name": "stdout",
     "output_type": "stream",
     "text": [
      "Selected netCDF file: reanalysis-era5-single-levels-monthly-means-d86346821f81de6d1d4cfba504721b58.nc\n"
     ]
    }
   ],
   "source": [
    "# get filename of latest .nc downloaded file \n",
    "files = [file for file in os.listdir(\".\") if (file.lower().endswith('.nc'))]\n",
    "list_nc_file = []\n",
    "\n",
    "for file in sorted(files,key=os.path.getmtime, reverse=True):\n",
    "    list_nc_file.append(file)\n",
    "    \n",
    "print(f'Selected netCDF file: {list_nc_file[0]}')  "
   ]
  },
  {
   "cell_type": "code",
   "execution_count": null,
   "id": "c25a1da2-933f-48a4-bc73-457d2fa17b72",
   "metadata": {},
   "outputs": [],
   "source": []
  }
 ],
 "metadata": {
  "kernelspec": {
   "display_name": "Python 3 (ipykernel)",
   "language": "python",
   "name": "python3"
  },
  "language_info": {
   "codemirror_mode": {
    "name": "ipython",
    "version": 3
   },
   "file_extension": ".py",
   "mimetype": "text/x-python",
   "name": "python",
   "nbconvert_exporter": "python",
   "pygments_lexer": "ipython3",
   "version": "3.11.7"
  }
 },
 "nbformat": 4,
 "nbformat_minor": 5
}
